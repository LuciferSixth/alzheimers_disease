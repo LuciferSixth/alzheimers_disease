{
 "nbformat": 4,
 "nbformat_minor": 0,
 "metadata": {
  "colab": {
   "provenance": []
  },
  "kernelspec": {
   "name": "python3",
   "display_name": "Python 3 (ipykernel)",
   "language": "python"
  },
  "language_info": {
   "name": "python"
  }
 },
 "cells": [
  {
   "cell_type": "markdown",
   "source": [
    "## About Dataset\n",
    "\n",
    "### Patient ID\n",
    "\n",
    "- **PatientID**: A unique identifier assigned to each patient (4751 to 6900).\n",
    "\n",
    "---\n",
    "\n",
    "### Demographic Details\n",
    "\n",
    "- **Age**: The age of the patients, ranging from 60 to 90 years.\n",
    "- **Gender**: Gender of the patients, where 0 represents Male and 1 represents Female.\n",
    "- **Ethnicity**: The ethnicity of the patients, coded as follows:\n",
    "  - 1: Caucasian\n",
    "  - 2: African American\n",
    "  - 3: Asian\n",
    "  - 4: Other\n",
    "\n",
    "---\n",
    "\n",
    "### Education Level\n",
    "\n",
    "- **EducationLevel**: The education level of the patients, coded as follows:\n",
    "  - 0: None\n",
    "  - 1: High School\n",
    "  - 2: Bachelor's\n",
    "  - 3: Higher\n",
    "\n",
    "---\n",
    "\n",
    "### Lifestyle Factors\n",
    "\n",
    "- **BMI**: Body Mass Index of the patients, ranging from 15 to 40.\n",
    "- **Smoking**: Smoking status, where 0 indicates No and 1 indicates Yes.\n",
    "- **AlcoholConsumption**: Weekly alcohol consumption in units, ranging from 0 to 20.\n",
    "- **PhysicalActivity**: Weekly physical activity in hours, ranging from 0 to 10.\n",
    "- **DietQuality**: Diet quality score, ranging from 0 to 10.\n",
    "- **SleepQuality**: Sleep quality score, ranging from 4 to 10.\n",
    "\n",
    "---\n",
    "\n",
    "### Medical History\n",
    "\n",
    "- **FamilyHistoryAlzheimers**: Family history of Alzheimer's Disease, where 0 indicates No and 1 indicates Yes.\n",
    "- **CardiovascularDisease**: Presence of cardiovascular disease, where 0 indicates No and 1 indicates Yes.\n",
    "- **Diabetes**: Presence of diabetes, where 0 indicates No and 1 indicates Yes.\n",
    "- **Depression**: Presence of depression, where 0 indicates No and 1 indicates Yes.\n",
    "- **HeadInjury**: History of head injury, where 0 indicates No and 1 indicates Yes.\n",
    "- **Hypertension**: Presence of hypertension, where 0 indicates No and 1 indicates Yes.\n",
    "\n",
    "---\n",
    "\n",
    "### Clinical Measurements\n",
    "\n",
    "- **SystolicBP**: Systolic blood pressure, ranging from 90 to 180 mmHg.\n",
    "- **DiastolicBP**: Diastolic blood pressure, ranging from 60 to 120 mmHg.\n",
    "- **CholesterolTotal**: Total cholesterol levels, ranging from 150 to 300 mg/dL.\n",
    "- **CholesterolLDL**: Low-density lipoprotein cholesterol levels, ranging from 50 to 200 mg/dL.\n",
    "- **CholesterolHDL**: High-density lipoprotein cholesterol levels, ranging from 20 to 100 mg/dL.\n",
    "- **CholesterolTriglycerides**: Triglycerides levels, ranging from 50 to 400 mg/dL.\n",
    "\n",
    "---\n",
    "\n",
    "### Cognitive and Functional Assessments\n",
    "\n",
    "- **MMSE**: Mini-Mental State Examination score, ranging from 0 to 30. Lower scores indicate cognitive impairment.\n",
    "- **FunctionalAssessment**: Functional assessment score, ranging from 0 to 10. Lower scores indicate greater impairment.\n",
    "- **MemoryComplaints**: Presence of memory complaints, where 0 indicates No and 1 indicates Yes.\n",
    "- **BehavioralProblems**: Presence of behavioral problems, where 0 indicates No and 1 indicates Yes.\n",
    "- **ADL**: Activities of Daily Living score, ranging from 0 to 10. Lower scores indicate greater impairment.\n",
    "\n",
    "---\n",
    "\n",
    "### Symptoms\n",
    "\n",
    "- **Confusion**: Presence of confusion, where 0 indicates No and 1 indicates Yes.\n",
    "- **Disorientation**: Presence of disorientation, where 0 indicates No and 1 indicates Yes.\n",
    "- **PersonalityChanges**: Presence of personality changes, where 0 indicates No and 1 indicates Yes.\n",
    "- **DifficultyCompletingTasks**: Presence of difficulty completing tasks, where 0 indicates No and 1 indicates Yes.\n",
    "- **Forgetfulness**: Presence of forgetfulness, where 0 indicates No and 1 indicates Yes.\n",
    "\n",
    "---\n",
    "\n",
    "### Diagnosis Information\n",
    "\n",
    "- **Diagnosis**: Diagnosis status for Alzheimer's Disease, where 0 indicates No and 1 indicates Yes.\n",
    "\n",
    "---\n",
    "\n",
    "### Confidential Information\n",
    "\n",
    "- **DoctorInCharge**: This column contains confidential information about the doctor in charge, with \"XXXConfid\" as the value for all patients.\n"
   ],
   "metadata": {
    "id": "EuvOSPwLdTPJ"
   }
  },
  {
   "cell_type": "markdown",
   "source": [
    "##Download Alzheimer's Disease Dataset"
   ],
   "metadata": {
    "id": "dDUSCVypacPV"
   }
  },
  {
   "cell_type": "code",
   "metadata": {
    "id": "lTOpDGHRQQOk",
    "ExecuteTime": {
     "end_time": "2024-08-31T10:02:22.447981Z",
     "start_time": "2024-08-31T10:02:22.440587Z"
    }
   },
   "source": "import pandas as pd",
   "outputs": [],
   "execution_count": 2
  },
  {
   "cell_type": "code",
   "source": "df = pd.read_csv('alzheimers_disease_data.csv')",
   "metadata": {
    "id": "KpC0XUpZQbZZ",
    "ExecuteTime": {
     "end_time": "2024-08-31T10:02:22.769771Z",
     "start_time": "2024-08-31T10:02:22.707142Z"
    }
   },
   "outputs": [],
   "execution_count": 3
  },
  {
   "cell_type": "markdown",
   "source": [
    "##Check data information"
   ],
   "metadata": {
    "id": "ZM-yOs8Iau7S"
   }
  },
  {
   "cell_type": "code",
   "source": [
    "df.info()"
   ],
   "metadata": {
    "colab": {
     "base_uri": "https://localhost:8080/"
    },
    "id": "O2YgiNtbQhmZ",
    "outputId": "80f62260-a80d-4444-e791-6bcd537e05ca",
    "ExecuteTime": {
     "end_time": "2024-08-31T10:02:23.070893Z",
     "start_time": "2024-08-31T10:02:23.027219Z"
    }
   },
   "outputs": [
    {
     "name": "stdout",
     "output_type": "stream",
     "text": [
      "<class 'pandas.core.frame.DataFrame'>\n",
      "RangeIndex: 2149 entries, 0 to 2148\n",
      "Data columns (total 35 columns):\n",
      " #   Column                     Non-Null Count  Dtype  \n",
      "---  ------                     --------------  -----  \n",
      " 0   PatientID                  2149 non-null   int64  \n",
      " 1   Age                        2149 non-null   int64  \n",
      " 2   Gender                     2149 non-null   int64  \n",
      " 3   Ethnicity                  2149 non-null   int64  \n",
      " 4   EducationLevel             2149 non-null   int64  \n",
      " 5   BMI                        2149 non-null   float64\n",
      " 6   Smoking                    2149 non-null   int64  \n",
      " 7   AlcoholConsumption         2149 non-null   float64\n",
      " 8   PhysicalActivity           2149 non-null   float64\n",
      " 9   DietQuality                2149 non-null   float64\n",
      " 10  SleepQuality               2149 non-null   float64\n",
      " 11  FamilyHistoryAlzheimers    2149 non-null   int64  \n",
      " 12  CardiovascularDisease      2149 non-null   int64  \n",
      " 13  Diabetes                   2149 non-null   int64  \n",
      " 14  Depression                 2149 non-null   int64  \n",
      " 15  HeadInjury                 2149 non-null   int64  \n",
      " 16  Hypertension               2149 non-null   int64  \n",
      " 17  SystolicBP                 2149 non-null   int64  \n",
      " 18  DiastolicBP                2149 non-null   int64  \n",
      " 19  CholesterolTotal           2149 non-null   float64\n",
      " 20  CholesterolLDL             2149 non-null   float64\n",
      " 21  CholesterolHDL             2149 non-null   float64\n",
      " 22  CholesterolTriglycerides   2149 non-null   float64\n",
      " 23  MMSE                       2149 non-null   float64\n",
      " 24  FunctionalAssessment       2149 non-null   float64\n",
      " 25  MemoryComplaints           2149 non-null   int64  \n",
      " 26  BehavioralProblems         2149 non-null   int64  \n",
      " 27  ADL                        2149 non-null   float64\n",
      " 28  Confusion                  2149 non-null   int64  \n",
      " 29  Disorientation             2149 non-null   int64  \n",
      " 30  PersonalityChanges         2149 non-null   int64  \n",
      " 31  DifficultyCompletingTasks  2149 non-null   int64  \n",
      " 32  Forgetfulness              2149 non-null   int64  \n",
      " 33  Diagnosis                  2149 non-null   int64  \n",
      " 34  DoctorInCharge             2149 non-null   object \n",
      "dtypes: float64(12), int64(22), object(1)\n",
      "memory usage: 587.7+ KB\n"
     ]
    }
   ],
   "execution_count": 4
  },
  {
   "cell_type": "code",
   "source": [
    "df.isnull().sum()"
   ],
   "metadata": {
    "colab": {
     "base_uri": "https://localhost:8080/",
     "height": 1000
    },
    "id": "Be5mqbMDQku3",
    "outputId": "45829a7e-675f-4457-d8e8-bc21968c30c9",
    "ExecuteTime": {
     "end_time": "2024-08-31T10:02:23.391349Z",
     "start_time": "2024-08-31T10:02:23.367188Z"
    }
   },
   "outputs": [
    {
     "data": {
      "text/plain": [
       "PatientID                    0\n",
       "Age                          0\n",
       "Gender                       0\n",
       "Ethnicity                    0\n",
       "EducationLevel               0\n",
       "BMI                          0\n",
       "Smoking                      0\n",
       "AlcoholConsumption           0\n",
       "PhysicalActivity             0\n",
       "DietQuality                  0\n",
       "SleepQuality                 0\n",
       "FamilyHistoryAlzheimers      0\n",
       "CardiovascularDisease        0\n",
       "Diabetes                     0\n",
       "Depression                   0\n",
       "HeadInjury                   0\n",
       "Hypertension                 0\n",
       "SystolicBP                   0\n",
       "DiastolicBP                  0\n",
       "CholesterolTotal             0\n",
       "CholesterolLDL               0\n",
       "CholesterolHDL               0\n",
       "CholesterolTriglycerides     0\n",
       "MMSE                         0\n",
       "FunctionalAssessment         0\n",
       "MemoryComplaints             0\n",
       "BehavioralProblems           0\n",
       "ADL                          0\n",
       "Confusion                    0\n",
       "Disorientation               0\n",
       "PersonalityChanges           0\n",
       "DifficultyCompletingTasks    0\n",
       "Forgetfulness                0\n",
       "Diagnosis                    0\n",
       "DoctorInCharge               0\n",
       "dtype: int64"
      ]
     },
     "execution_count": 5,
     "metadata": {},
     "output_type": "execute_result"
    }
   ],
   "execution_count": 5
  },
  {
   "cell_type": "markdown",
   "source": [
    "The dataset has no missing value from 2149 rows"
   ],
   "metadata": {
    "id": "-HqpVNCicJuw"
   }
  },
  {
   "cell_type": "code",
   "source": [
    "df.describe()"
   ],
   "metadata": {
    "colab": {
     "base_uri": "https://localhost:8080/",
     "height": 349
    },
    "id": "gBvl1TNXQpAh",
    "outputId": "ea3ec0b5-ffc7-4174-f88d-1b92d766e0e7",
    "ExecuteTime": {
     "end_time": "2024-08-31T10:02:23.804845Z",
     "start_time": "2024-08-31T10:02:23.687289Z"
    }
   },
   "outputs": [
    {
     "data": {
      "text/plain": [
       "         PatientID          Age       Gender    Ethnicity  EducationLevel  \\\n",
       "count  2149.000000  2149.000000  2149.000000  2149.000000     2149.000000   \n",
       "mean   5825.000000    74.908795     0.506282     0.697534        1.286645   \n",
       "std     620.507185     8.990221     0.500077     0.996128        0.904527   \n",
       "min    4751.000000    60.000000     0.000000     0.000000        0.000000   \n",
       "25%    5288.000000    67.000000     0.000000     0.000000        1.000000   \n",
       "50%    5825.000000    75.000000     1.000000     0.000000        1.000000   \n",
       "75%    6362.000000    83.000000     1.000000     1.000000        2.000000   \n",
       "max    6899.000000    90.000000     1.000000     3.000000        3.000000   \n",
       "\n",
       "               BMI      Smoking  AlcoholConsumption  PhysicalActivity  \\\n",
       "count  2149.000000  2149.000000         2149.000000       2149.000000   \n",
       "mean     27.655697     0.288506           10.039442          4.920202   \n",
       "std       7.217438     0.453173            5.757910          2.857191   \n",
       "min      15.008851     0.000000            0.002003          0.003616   \n",
       "25%      21.611408     0.000000            5.139810          2.570626   \n",
       "50%      27.823924     0.000000            9.934412          4.766424   \n",
       "75%      33.869778     1.000000           15.157931          7.427899   \n",
       "max      39.992767     1.000000           19.989293          9.987429   \n",
       "\n",
       "       DietQuality  ...  FunctionalAssessment  MemoryComplaints  \\\n",
       "count  2149.000000  ...           2149.000000       2149.000000   \n",
       "mean      4.993138  ...              5.080055          0.208004   \n",
       "std       2.909055  ...              2.892743          0.405974   \n",
       "min       0.009385  ...              0.000460          0.000000   \n",
       "25%       2.458455  ...              2.566281          0.000000   \n",
       "50%       5.076087  ...              5.094439          0.000000   \n",
       "75%       7.558625  ...              7.546981          0.000000   \n",
       "max       9.998346  ...              9.996467          1.000000   \n",
       "\n",
       "       BehavioralProblems          ADL    Confusion  Disorientation  \\\n",
       "count         2149.000000  2149.000000  2149.000000     2149.000000   \n",
       "mean             0.156817     4.982958     0.205212        0.158213   \n",
       "std              0.363713     2.949775     0.403950        0.365026   \n",
       "min              0.000000     0.001288     0.000000        0.000000   \n",
       "25%              0.000000     2.342836     0.000000        0.000000   \n",
       "50%              0.000000     5.038973     0.000000        0.000000   \n",
       "75%              0.000000     7.581490     0.000000        0.000000   \n",
       "max              1.000000     9.999747     1.000000        1.000000   \n",
       "\n",
       "       PersonalityChanges  DifficultyCompletingTasks  Forgetfulness  \\\n",
       "count         2149.000000                2149.000000    2149.000000   \n",
       "mean             0.150768                   0.158678       0.301536   \n",
       "std              0.357906                   0.365461       0.459032   \n",
       "min              0.000000                   0.000000       0.000000   \n",
       "25%              0.000000                   0.000000       0.000000   \n",
       "50%              0.000000                   0.000000       0.000000   \n",
       "75%              0.000000                   0.000000       1.000000   \n",
       "max              1.000000                   1.000000       1.000000   \n",
       "\n",
       "         Diagnosis  \n",
       "count  2149.000000  \n",
       "mean      0.353653  \n",
       "std       0.478214  \n",
       "min       0.000000  \n",
       "25%       0.000000  \n",
       "50%       0.000000  \n",
       "75%       1.000000  \n",
       "max       1.000000  \n",
       "\n",
       "[8 rows x 34 columns]"
      ],
      "text/html": [
       "<div>\n",
       "<style scoped>\n",
       "    .dataframe tbody tr th:only-of-type {\n",
       "        vertical-align: middle;\n",
       "    }\n",
       "\n",
       "    .dataframe tbody tr th {\n",
       "        vertical-align: top;\n",
       "    }\n",
       "\n",
       "    .dataframe thead th {\n",
       "        text-align: right;\n",
       "    }\n",
       "</style>\n",
       "<table border=\"1\" class=\"dataframe\">\n",
       "  <thead>\n",
       "    <tr style=\"text-align: right;\">\n",
       "      <th></th>\n",
       "      <th>PatientID</th>\n",
       "      <th>Age</th>\n",
       "      <th>Gender</th>\n",
       "      <th>Ethnicity</th>\n",
       "      <th>EducationLevel</th>\n",
       "      <th>BMI</th>\n",
       "      <th>Smoking</th>\n",
       "      <th>AlcoholConsumption</th>\n",
       "      <th>PhysicalActivity</th>\n",
       "      <th>DietQuality</th>\n",
       "      <th>...</th>\n",
       "      <th>FunctionalAssessment</th>\n",
       "      <th>MemoryComplaints</th>\n",
       "      <th>BehavioralProblems</th>\n",
       "      <th>ADL</th>\n",
       "      <th>Confusion</th>\n",
       "      <th>Disorientation</th>\n",
       "      <th>PersonalityChanges</th>\n",
       "      <th>DifficultyCompletingTasks</th>\n",
       "      <th>Forgetfulness</th>\n",
       "      <th>Diagnosis</th>\n",
       "    </tr>\n",
       "  </thead>\n",
       "  <tbody>\n",
       "    <tr>\n",
       "      <th>count</th>\n",
       "      <td>2149.000000</td>\n",
       "      <td>2149.000000</td>\n",
       "      <td>2149.000000</td>\n",
       "      <td>2149.000000</td>\n",
       "      <td>2149.000000</td>\n",
       "      <td>2149.000000</td>\n",
       "      <td>2149.000000</td>\n",
       "      <td>2149.000000</td>\n",
       "      <td>2149.000000</td>\n",
       "      <td>2149.000000</td>\n",
       "      <td>...</td>\n",
       "      <td>2149.000000</td>\n",
       "      <td>2149.000000</td>\n",
       "      <td>2149.000000</td>\n",
       "      <td>2149.000000</td>\n",
       "      <td>2149.000000</td>\n",
       "      <td>2149.000000</td>\n",
       "      <td>2149.000000</td>\n",
       "      <td>2149.000000</td>\n",
       "      <td>2149.000000</td>\n",
       "      <td>2149.000000</td>\n",
       "    </tr>\n",
       "    <tr>\n",
       "      <th>mean</th>\n",
       "      <td>5825.000000</td>\n",
       "      <td>74.908795</td>\n",
       "      <td>0.506282</td>\n",
       "      <td>0.697534</td>\n",
       "      <td>1.286645</td>\n",
       "      <td>27.655697</td>\n",
       "      <td>0.288506</td>\n",
       "      <td>10.039442</td>\n",
       "      <td>4.920202</td>\n",
       "      <td>4.993138</td>\n",
       "      <td>...</td>\n",
       "      <td>5.080055</td>\n",
       "      <td>0.208004</td>\n",
       "      <td>0.156817</td>\n",
       "      <td>4.982958</td>\n",
       "      <td>0.205212</td>\n",
       "      <td>0.158213</td>\n",
       "      <td>0.150768</td>\n",
       "      <td>0.158678</td>\n",
       "      <td>0.301536</td>\n",
       "      <td>0.353653</td>\n",
       "    </tr>\n",
       "    <tr>\n",
       "      <th>std</th>\n",
       "      <td>620.507185</td>\n",
       "      <td>8.990221</td>\n",
       "      <td>0.500077</td>\n",
       "      <td>0.996128</td>\n",
       "      <td>0.904527</td>\n",
       "      <td>7.217438</td>\n",
       "      <td>0.453173</td>\n",
       "      <td>5.757910</td>\n",
       "      <td>2.857191</td>\n",
       "      <td>2.909055</td>\n",
       "      <td>...</td>\n",
       "      <td>2.892743</td>\n",
       "      <td>0.405974</td>\n",
       "      <td>0.363713</td>\n",
       "      <td>2.949775</td>\n",
       "      <td>0.403950</td>\n",
       "      <td>0.365026</td>\n",
       "      <td>0.357906</td>\n",
       "      <td>0.365461</td>\n",
       "      <td>0.459032</td>\n",
       "      <td>0.478214</td>\n",
       "    </tr>\n",
       "    <tr>\n",
       "      <th>min</th>\n",
       "      <td>4751.000000</td>\n",
       "      <td>60.000000</td>\n",
       "      <td>0.000000</td>\n",
       "      <td>0.000000</td>\n",
       "      <td>0.000000</td>\n",
       "      <td>15.008851</td>\n",
       "      <td>0.000000</td>\n",
       "      <td>0.002003</td>\n",
       "      <td>0.003616</td>\n",
       "      <td>0.009385</td>\n",
       "      <td>...</td>\n",
       "      <td>0.000460</td>\n",
       "      <td>0.000000</td>\n",
       "      <td>0.000000</td>\n",
       "      <td>0.001288</td>\n",
       "      <td>0.000000</td>\n",
       "      <td>0.000000</td>\n",
       "      <td>0.000000</td>\n",
       "      <td>0.000000</td>\n",
       "      <td>0.000000</td>\n",
       "      <td>0.000000</td>\n",
       "    </tr>\n",
       "    <tr>\n",
       "      <th>25%</th>\n",
       "      <td>5288.000000</td>\n",
       "      <td>67.000000</td>\n",
       "      <td>0.000000</td>\n",
       "      <td>0.000000</td>\n",
       "      <td>1.000000</td>\n",
       "      <td>21.611408</td>\n",
       "      <td>0.000000</td>\n",
       "      <td>5.139810</td>\n",
       "      <td>2.570626</td>\n",
       "      <td>2.458455</td>\n",
       "      <td>...</td>\n",
       "      <td>2.566281</td>\n",
       "      <td>0.000000</td>\n",
       "      <td>0.000000</td>\n",
       "      <td>2.342836</td>\n",
       "      <td>0.000000</td>\n",
       "      <td>0.000000</td>\n",
       "      <td>0.000000</td>\n",
       "      <td>0.000000</td>\n",
       "      <td>0.000000</td>\n",
       "      <td>0.000000</td>\n",
       "    </tr>\n",
       "    <tr>\n",
       "      <th>50%</th>\n",
       "      <td>5825.000000</td>\n",
       "      <td>75.000000</td>\n",
       "      <td>1.000000</td>\n",
       "      <td>0.000000</td>\n",
       "      <td>1.000000</td>\n",
       "      <td>27.823924</td>\n",
       "      <td>0.000000</td>\n",
       "      <td>9.934412</td>\n",
       "      <td>4.766424</td>\n",
       "      <td>5.076087</td>\n",
       "      <td>...</td>\n",
       "      <td>5.094439</td>\n",
       "      <td>0.000000</td>\n",
       "      <td>0.000000</td>\n",
       "      <td>5.038973</td>\n",
       "      <td>0.000000</td>\n",
       "      <td>0.000000</td>\n",
       "      <td>0.000000</td>\n",
       "      <td>0.000000</td>\n",
       "      <td>0.000000</td>\n",
       "      <td>0.000000</td>\n",
       "    </tr>\n",
       "    <tr>\n",
       "      <th>75%</th>\n",
       "      <td>6362.000000</td>\n",
       "      <td>83.000000</td>\n",
       "      <td>1.000000</td>\n",
       "      <td>1.000000</td>\n",
       "      <td>2.000000</td>\n",
       "      <td>33.869778</td>\n",
       "      <td>1.000000</td>\n",
       "      <td>15.157931</td>\n",
       "      <td>7.427899</td>\n",
       "      <td>7.558625</td>\n",
       "      <td>...</td>\n",
       "      <td>7.546981</td>\n",
       "      <td>0.000000</td>\n",
       "      <td>0.000000</td>\n",
       "      <td>7.581490</td>\n",
       "      <td>0.000000</td>\n",
       "      <td>0.000000</td>\n",
       "      <td>0.000000</td>\n",
       "      <td>0.000000</td>\n",
       "      <td>1.000000</td>\n",
       "      <td>1.000000</td>\n",
       "    </tr>\n",
       "    <tr>\n",
       "      <th>max</th>\n",
       "      <td>6899.000000</td>\n",
       "      <td>90.000000</td>\n",
       "      <td>1.000000</td>\n",
       "      <td>3.000000</td>\n",
       "      <td>3.000000</td>\n",
       "      <td>39.992767</td>\n",
       "      <td>1.000000</td>\n",
       "      <td>19.989293</td>\n",
       "      <td>9.987429</td>\n",
       "      <td>9.998346</td>\n",
       "      <td>...</td>\n",
       "      <td>9.996467</td>\n",
       "      <td>1.000000</td>\n",
       "      <td>1.000000</td>\n",
       "      <td>9.999747</td>\n",
       "      <td>1.000000</td>\n",
       "      <td>1.000000</td>\n",
       "      <td>1.000000</td>\n",
       "      <td>1.000000</td>\n",
       "      <td>1.000000</td>\n",
       "      <td>1.000000</td>\n",
       "    </tr>\n",
       "  </tbody>\n",
       "</table>\n",
       "<p>8 rows × 34 columns</p>\n",
       "</div>"
      ]
     },
     "execution_count": 6,
     "metadata": {},
     "output_type": "execute_result"
    }
   ],
   "execution_count": 6
  },
  {
   "cell_type": "markdown",
   "source": "##Explorer Data Analysis (EDA)",
   "metadata": {
    "id": "BCb56Gv3Q_cD"
   }
  },
  {
   "cell_type": "code",
   "source": [
    "#Checking the target variable that is it imbalance?\n",
    "df['Diagnosis'].value_counts()"
   ],
   "metadata": {
    "colab": {
     "base_uri": "https://localhost:8080/",
     "height": 178
    },
    "id": "o8D6B_a4Q2QD",
    "outputId": "a8611f23-fe00-463f-f30f-f929cb31342e",
    "ExecuteTime": {
     "end_time": "2024-08-31T10:02:23.912396Z",
     "start_time": "2024-08-31T10:02:23.897041Z"
    }
   },
   "outputs": [
    {
     "data": {
      "text/plain": [
       "Diagnosis\n",
       "0    1389\n",
       "1     760\n",
       "Name: count, dtype: int64"
      ]
     },
     "execution_count": 7,
     "metadata": {},
     "output_type": "execute_result"
    }
   ],
   "execution_count": 7
  },
  {
   "cell_type": "code",
   "source": [
    "#The target variable is imbalance.\n",
    "import matplotlib.pyplot as plt\n",
    "plt.pie([(df['Diagnosis']==1).sum(),  (df['Diagnosis']==0).sum()], labels=['Yes', 'No'], autopct='%.0f%%')\n",
    "plt.show()"
   ],
   "metadata": {
    "colab": {
     "base_uri": "https://localhost:8080/",
     "height": 406
    },
    "id": "9w6QAfRhRQFL",
    "outputId": "01b9d300-dd60-4cb3-fd47-bf12709e0283",
    "ExecuteTime": {
     "end_time": "2024-08-31T10:02:24.538690Z",
     "start_time": "2024-08-31T10:02:24.357096Z"
    }
   },
   "outputs": [
    {
     "data": {
      "text/plain": [
       "<Figure size 640x480 with 1 Axes>"
      ],
      "image/png": "[encoded data removed]"
     },
     "metadata": {},
     "output_type": "display_data"
    }
   ],
   "execution_count": 8
  },
  {
   "cell_type": "markdown",
   "source": [
    "When we convert the values ​​of the target variables (\"yes\" and \"no\") to percentages, we see that the rows with \"no\" have almost twice(x 2) as many values ​​as the rows with \"yes\"."
   ],
   "metadata": {
    "id": "uMo58XrgX1tP"
   }
  },
  {
   "cell_type": "code",
   "source": [
    "#Take a quick look into the values in each columns to assume that which columns is not related to target variable.\n",
    "df.head(10)"
   ],
   "metadata": {
    "colab": {
     "base_uri": "https://localhost:8080/",
     "height": 412
    },
    "id": "0XLgxlMzSTg9",
    "outputId": "ea645937-2873-4dfa-915b-c626748080ff",
    "ExecuteTime": {
     "end_time": "2024-08-31T10:02:24.808939Z",
     "start_time": "2024-08-31T10:02:24.777068Z"
    }
   },
   "outputs": [
    {
     "data": {
      "text/plain": [
       "   PatientID  Age  Gender  Ethnicity  EducationLevel        BMI  Smoking  \\\n",
       "0       4751   73       0          0               2  22.927749        0   \n",
       "1       4752   89       0          0               0  26.827681        0   \n",
       "2       4753   73       0          3               1  17.795882        0   \n",
       "3       4754   74       1          0               1  33.800817        1   \n",
       "4       4755   89       0          0               0  20.716974        0   \n",
       "5       4756   86       1          1               1  30.626886        0   \n",
       "6       4757   68       0          3               2  38.387622        1   \n",
       "7       4758   75       0          0               1  18.776009        0   \n",
       "8       4759   72       1          1               0  27.833188        0   \n",
       "9       4760   87       0          0               0  35.456302        1   \n",
       "\n",
       "   AlcoholConsumption  PhysicalActivity  DietQuality  ...  MemoryComplaints  \\\n",
       "0           13.297218          6.327112     1.347214  ...                 0   \n",
       "1            4.542524          7.619885     0.518767  ...                 0   \n",
       "2           19.555085          7.844988     1.826335  ...                 0   \n",
       "3           12.209266          8.428001     7.435604  ...                 0   \n",
       "4           18.454356          6.310461     0.795498  ...                 0   \n",
       "5            4.140144          0.211062     1.584922  ...                 0   \n",
       "6            0.646047          9.257695     5.897388  ...                 0   \n",
       "7           13.723826          4.649451     8.341903  ...                 0   \n",
       "8           12.167848          1.531360     6.736882  ...                 0   \n",
       "9           16.028688          6.440773     8.086019  ...                 0   \n",
       "\n",
       "   BehavioralProblems       ADL  Confusion  Disorientation  \\\n",
       "0                   0  1.725883          0               0   \n",
       "1                   0  2.592424          0               0   \n",
       "2                   0  7.119548          0               1   \n",
       "3                   1  6.481226          0               0   \n",
       "4                   0  0.014691          0               0   \n",
       "5                   0  9.015686          1               0   \n",
       "6                   0  9.236328          0               0   \n",
       "7                   0  4.517248          1               0   \n",
       "8                   1  0.756232          0               0   \n",
       "9                   1  4.554394          0               0   \n",
       "\n",
       "   PersonalityChanges  DifficultyCompletingTasks  Forgetfulness  Diagnosis  \\\n",
       "0                   0                          1              0          0   \n",
       "1                   0                          0              1          0   \n",
       "2                   0                          1              0          0   \n",
       "3                   0                          0              0          0   \n",
       "4                   1                          1              0          0   \n",
       "5                   0                          0              0          0   \n",
       "6                   0                          0              1          0   \n",
       "7                   0                          0              1          1   \n",
       "8                   1                          0              0          0   \n",
       "9                   0                          0              0          0   \n",
       "\n",
       "   DoctorInCharge  \n",
       "0       XXXConfid  \n",
       "1       XXXConfid  \n",
       "2       XXXConfid  \n",
       "3       XXXConfid  \n",
       "4       XXXConfid  \n",
       "5       XXXConfid  \n",
       "6       XXXConfid  \n",
       "7       XXXConfid  \n",
       "8       XXXConfid  \n",
       "9       XXXConfid  \n",
       "\n",
       "[10 rows x 35 columns]"
      ],
      "text/html": [
       "<div>\n",
       "<style scoped>\n",
       "    .dataframe tbody tr th:only-of-type {\n",
       "        vertical-align: middle;\n",
       "    }\n",
       "\n",
       "    .dataframe tbody tr th {\n",
       "        vertical-align: top;\n",
       "    }\n",
       "\n",
       "    .dataframe thead th {\n",
       "        text-align: right;\n",
       "    }\n",
       "</style>\n",
       "<table border=\"1\" class=\"dataframe\">\n",
       "  <thead>\n",
       "    <tr style=\"text-align: right;\">\n",
       "      <th></th>\n",
       "      <th>PatientID</th>\n",
       "      <th>Age</th>\n",
       "      <th>Gender</th>\n",
       "      <th>Ethnicity</th>\n",
       "      <th>EducationLevel</th>\n",
       "      <th>BMI</th>\n",
       "      <th>Smoking</th>\n",
       "      <th>AlcoholConsumption</th>\n",
       "      <th>PhysicalActivity</th>\n",
       "      <th>DietQuality</th>\n",
       "      <th>...</th>\n",
       "      <th>MemoryComplaints</th>\n",
       "      <th>BehavioralProblems</th>\n",
       "      <th>ADL</th>\n",
       "      <th>Confusion</th>\n",
       "      <th>Disorientation</th>\n",
       "      <th>PersonalityChanges</th>\n",
       "      <th>DifficultyCompletingTasks</th>\n",
       "      <th>Forgetfulness</th>\n",
       "      <th>Diagnosis</th>\n",
       "      <th>DoctorInCharge</th>\n",
       "    </tr>\n",
       "  </thead>\n",
       "  <tbody>\n",
       "    <tr>\n",
       "      <th>0</th>\n",
       "      <td>4751</td>\n",
       "      <td>73</td>\n",
       "      <td>0</td>\n",
       "      <td>0</td>\n",
       "      <td>2</td>\n",
       "      <td>22.927749</td>\n",
       "      <td>0</td>\n",
       "      <td>13.297218</td>\n",
       "      <td>6.327112</td>\n",
       "      <td>1.347214</td>\n",
       "      <td>...</td>\n",
       "      <td>0</td>\n",
       "      <td>0</td>\n",
       "      <td>1.725883</td>\n",
       "      <td>0</td>\n",
       "      <td>0</td>\n",
       "      <td>0</td>\n",
       "      <td>1</td>\n",
       "      <td>0</td>\n",
       "      <td>0</td>\n",
       "      <td>XXXConfid</td>\n",
       "    </tr>\n",
       "    <tr>\n",
       "      <th>1</th>\n",
       "      <td>4752</td>\n",
       "      <td>89</td>\n",
       "      <td>0</td>\n",
       "      <td>0</td>\n",
       "      <td>0</td>\n",
       "      <td>26.827681</td>\n",
       "      <td>0</td>\n",
       "      <td>4.542524</td>\n",
       "      <td>7.619885</td>\n",
       "      <td>0.518767</td>\n",
       "      <td>...</td>\n",
       "      <td>0</td>\n",
       "      <td>0</td>\n",
       "      <td>2.592424</td>\n",
       "      <td>0</td>\n",
       "      <td>0</td>\n",
       "      <td>0</td>\n",
       "      <td>0</td>\n",
       "      <td>1</td>\n",
       "      <td>0</td>\n",
       "      <td>XXXConfid</td>\n",
       "    </tr>\n",
       "    <tr>\n",
       "      <th>2</th>\n",
       "      <td>4753</td>\n",
       "      <td>73</td>\n",
       "      <td>0</td>\n",
       "      <td>3</td>\n",
       "      <td>1</td>\n",
       "      <td>17.795882</td>\n",
       "      <td>0</td>\n",
       "      <td>19.555085</td>\n",
       "      <td>7.844988</td>\n",
       "      <td>1.826335</td>\n",
       "      <td>...</td>\n",
       "      <td>0</td>\n",
       "      <td>0</td>\n",
       "      <td>7.119548</td>\n",
       "      <td>0</td>\n",
       "      <td>1</td>\n",
       "      <td>0</td>\n",
       "      <td>1</td>\n",
       "      <td>0</td>\n",
       "      <td>0</td>\n",
       "      <td>XXXConfid</td>\n",
       "    </tr>\n",
       "    <tr>\n",
       "      <th>3</th>\n",
       "      <td>4754</td>\n",
       "      <td>74</td>\n",
       "      <td>1</td>\n",
       "      <td>0</td>\n",
       "      <td>1</td>\n",
       "      <td>33.800817</td>\n",
       "      <td>1</td>\n",
       "      <td>12.209266</td>\n",
       "      <td>8.428001</td>\n",
       "      <td>7.435604</td>\n",
       "      <td>...</td>\n",
       "      <td>0</td>\n",
       "      <td>1</td>\n",
       "      <td>6.481226</td>\n",
       "      <td>0</td>\n",
       "      <td>0</td>\n",
       "      <td>0</td>\n",
       "      <td>0</td>\n",
       "      <td>0</td>\n",
       "      <td>0</td>\n",
       "      <td>XXXConfid</td>\n",
       "    </tr>\n",
       "    <tr>\n",
       "      <th>4</th>\n",
       "      <td>4755</td>\n",
       "      <td>89</td>\n",
       "      <td>0</td>\n",
       "      <td>0</td>\n",
       "      <td>0</td>\n",
       "      <td>20.716974</td>\n",
       "      <td>0</td>\n",
       "      <td>18.454356</td>\n",
       "      <td>6.310461</td>\n",
       "      <td>0.795498</td>\n",
       "      <td>...</td>\n",
       "      <td>0</td>\n",
       "      <td>0</td>\n",
       "      <td>0.014691</td>\n",
       "      <td>0</td>\n",
       "      <td>0</td>\n",
       "      <td>1</td>\n",
       "      <td>1</td>\n",
       "      <td>0</td>\n",
       "      <td>0</td>\n",
       "      <td>XXXConfid</td>\n",
       "    </tr>\n",
       "    <tr>\n",
       "      <th>5</th>\n",
       "      <td>4756</td>\n",
       "      <td>86</td>\n",
       "      <td>1</td>\n",
       "      <td>1</td>\n",
       "      <td>1</td>\n",
       "      <td>30.626886</td>\n",
       "      <td>0</td>\n",
       "      <td>4.140144</td>\n",
       "      <td>0.211062</td>\n",
       "      <td>1.584922</td>\n",
       "      <td>...</td>\n",
       "      <td>0</td>\n",
       "      <td>0</td>\n",
       "      <td>9.015686</td>\n",
       "      <td>1</td>\n",
       "      <td>0</td>\n",
       "      <td>0</td>\n",
       "      <td>0</td>\n",
       "      <td>0</td>\n",
       "      <td>0</td>\n",
       "      <td>XXXConfid</td>\n",
       "    </tr>\n",
       "    <tr>\n",
       "      <th>6</th>\n",
       "      <td>4757</td>\n",
       "      <td>68</td>\n",
       "      <td>0</td>\n",
       "      <td>3</td>\n",
       "      <td>2</td>\n",
       "      <td>38.387622</td>\n",
       "      <td>1</td>\n",
       "      <td>0.646047</td>\n",
       "      <td>9.257695</td>\n",
       "      <td>5.897388</td>\n",
       "      <td>...</td>\n",
       "      <td>0</td>\n",
       "      <td>0</td>\n",
       "      <td>9.236328</td>\n",
       "      <td>0</td>\n",
       "      <td>0</td>\n",
       "      <td>0</td>\n",
       "      <td>0</td>\n",
       "      <td>1</td>\n",
       "      <td>0</td>\n",
       "      <td>XXXConfid</td>\n",
       "    </tr>\n",
       "    <tr>\n",
       "      <th>7</th>\n",
       "      <td>4758</td>\n",
       "      <td>75</td>\n",
       "      <td>0</td>\n",
       "      <td>0</td>\n",
       "      <td>1</td>\n",
       "      <td>18.776009</td>\n",
       "      <td>0</td>\n",
       "      <td>13.723826</td>\n",
       "      <td>4.649451</td>\n",
       "      <td>8.341903</td>\n",
       "      <td>...</td>\n",
       "      <td>0</td>\n",
       "      <td>0</td>\n",
       "      <td>4.517248</td>\n",
       "      <td>1</td>\n",
       "      <td>0</td>\n",
       "      <td>0</td>\n",
       "      <td>0</td>\n",
       "      <td>1</td>\n",
       "      <td>1</td>\n",
       "      <td>XXXConfid</td>\n",
       "    </tr>\n",
       "    <tr>\n",
       "      <th>8</th>\n",
       "      <td>4759</td>\n",
       "      <td>72</td>\n",
       "      <td>1</td>\n",
       "      <td>1</td>\n",
       "      <td>0</td>\n",
       "      <td>27.833188</td>\n",
       "      <td>0</td>\n",
       "      <td>12.167848</td>\n",
       "      <td>1.531360</td>\n",
       "      <td>6.736882</td>\n",
       "      <td>...</td>\n",
       "      <td>0</td>\n",
       "      <td>1</td>\n",
       "      <td>0.756232</td>\n",
       "      <td>0</td>\n",
       "      <td>0</td>\n",
       "      <td>1</td>\n",
       "      <td>0</td>\n",
       "      <td>0</td>\n",
       "      <td>0</td>\n",
       "      <td>XXXConfid</td>\n",
       "    </tr>\n",
       "    <tr>\n",
       "      <th>9</th>\n",
       "      <td>4760</td>\n",
       "      <td>87</td>\n",
       "      <td>0</td>\n",
       "      <td>0</td>\n",
       "      <td>0</td>\n",
       "      <td>35.456302</td>\n",
       "      <td>1</td>\n",
       "      <td>16.028688</td>\n",
       "      <td>6.440773</td>\n",
       "      <td>8.086019</td>\n",
       "      <td>...</td>\n",
       "      <td>0</td>\n",
       "      <td>1</td>\n",
       "      <td>4.554394</td>\n",
       "      <td>0</td>\n",
       "      <td>0</td>\n",
       "      <td>0</td>\n",
       "      <td>0</td>\n",
       "      <td>0</td>\n",
       "      <td>0</td>\n",
       "      <td>XXXConfid</td>\n",
       "    </tr>\n",
       "  </tbody>\n",
       "</table>\n",
       "<p>10 rows × 35 columns</p>\n",
       "</div>"
      ]
     },
     "execution_count": 9,
     "metadata": {},
     "output_type": "execute_result"
    }
   ],
   "execution_count": 9
  },
  {
   "cell_type": "markdown",
   "source": [
    "As you can see \"PatientID\" is just a Number of ID patient, And \"DoctorInCharge\" is covered so we can not see the information that is hired, So we will drop both of columns.\n",
    "\n",
    "###Drop Columns"
   ],
   "metadata": {
    "id": "BKzZ8lJAZ4c0"
   }
  },
  {
   "cell_type": "code",
   "source": [
    "df.drop(['PatientID'], axis = 1, inplace = True)\n",
    "df.drop(['DoctorInCharge'], axis = 1, inplace = True)\n",
    "df.head()"
   ],
   "metadata": {
    "colab": {
     "base_uri": "https://localhost:8080/",
     "height": 255
    },
    "id": "b2gcPD9iW8bf",
    "outputId": "c4511a69-e137-438e-ee07-909866551451",
    "ExecuteTime": {
     "end_time": "2024-08-31T10:02:25.473603Z",
     "start_time": "2024-08-31T10:02:25.427162Z"
    }
   },
   "outputs": [
    {
     "data": {
      "text/plain": [
       "   Age  Gender  Ethnicity  EducationLevel        BMI  Smoking  \\\n",
       "0   73       0          0               2  22.927749        0   \n",
       "1   89       0          0               0  26.827681        0   \n",
       "2   73       0          3               1  17.795882        0   \n",
       "3   74       1          0               1  33.800817        1   \n",
       "4   89       0          0               0  20.716974        0   \n",
       "\n",
       "   AlcoholConsumption  PhysicalActivity  DietQuality  SleepQuality  ...  \\\n",
       "0           13.297218          6.327112     1.347214      9.025679  ...   \n",
       "1            4.542524          7.619885     0.518767      7.151293  ...   \n",
       "2           19.555085          7.844988     1.826335      9.673574  ...   \n",
       "3           12.209266          8.428001     7.435604      8.392554  ...   \n",
       "4           18.454356          6.310461     0.795498      5.597238  ...   \n",
       "\n",
       "   FunctionalAssessment  MemoryComplaints  BehavioralProblems       ADL  \\\n",
       "0              6.518877                 0                   0  1.725883   \n",
       "1              7.118696                 0                   0  2.592424   \n",
       "2              5.895077                 0                   0  7.119548   \n",
       "3              8.965106                 0                   1  6.481226   \n",
       "4              6.045039                 0                   0  0.014691   \n",
       "\n",
       "   Confusion  Disorientation  PersonalityChanges  DifficultyCompletingTasks  \\\n",
       "0          0               0                   0                          1   \n",
       "1          0               0                   0                          0   \n",
       "2          0               1                   0                          1   \n",
       "3          0               0                   0                          0   \n",
       "4          0               0                   1                          1   \n",
       "\n",
       "   Forgetfulness  Diagnosis  \n",
       "0              0          0  \n",
       "1              1          0  \n",
       "2              0          0  \n",
       "3              0          0  \n",
       "4              0          0  \n",
       "\n",
       "[5 rows x 33 columns]"
      ],
      "text/html": [
       "<div>\n",
       "<style scoped>\n",
       "    .dataframe tbody tr th:only-of-type {\n",
       "        vertical-align: middle;\n",
       "    }\n",
       "\n",
       "    .dataframe tbody tr th {\n",
       "        vertical-align: top;\n",
       "    }\n",
       "\n",
       "    .dataframe thead th {\n",
       "        text-align: right;\n",
       "    }\n",
       "</style>\n",
       "<table border=\"1\" class=\"dataframe\">\n",
       "  <thead>\n",
       "    <tr style=\"text-align: right;\">\n",
       "      <th></th>\n",
       "      <th>Age</th>\n",
       "      <th>Gender</th>\n",
       "      <th>Ethnicity</th>\n",
       "      <th>EducationLevel</th>\n",
       "      <th>BMI</th>\n",
       "      <th>Smoking</th>\n",
       "      <th>AlcoholConsumption</th>\n",
       "      <th>PhysicalActivity</th>\n",
       "      <th>DietQuality</th>\n",
       "      <th>SleepQuality</th>\n",
       "      <th>...</th>\n",
       "      <th>FunctionalAssessment</th>\n",
       "      <th>MemoryComplaints</th>\n",
       "      <th>BehavioralProblems</th>\n",
       "      <th>ADL</th>\n",
       "      <th>Confusion</th>\n",
       "      <th>Disorientation</th>\n",
       "      <th>PersonalityChanges</th>\n",
       "      <th>DifficultyCompletingTasks</th>\n",
       "      <th>Forgetfulness</th>\n",
       "      <th>Diagnosis</th>\n",
       "    </tr>\n",
       "  </thead>\n",
       "  <tbody>\n",
       "    <tr>\n",
       "      <th>0</th>\n",
       "      <td>73</td>\n",
       "      <td>0</td>\n",
       "      <td>0</td>\n",
       "      <td>2</td>\n",
       "      <td>22.927749</td>\n",
       "      <td>0</td>\n",
       "      <td>13.297218</td>\n",
       "      <td>6.327112</td>\n",
       "      <td>1.347214</td>\n",
       "      <td>9.025679</td>\n",
       "      <td>...</td>\n",
       "      <td>6.518877</td>\n",
       "      <td>0</td>\n",
       "      <td>0</td>\n",
       "      <td>1.725883</td>\n",
       "      <td>0</td>\n",
       "      <td>0</td>\n",
       "      <td>0</td>\n",
       "      <td>1</td>\n",
       "      <td>0</td>\n",
       "      <td>0</td>\n",
       "    </tr>\n",
       "    <tr>\n",
       "      <th>1</th>\n",
       "      <td>89</td>\n",
       "      <td>0</td>\n",
       "      <td>0</td>\n",
       "      <td>0</td>\n",
       "      <td>26.827681</td>\n",
       "      <td>0</td>\n",
       "      <td>4.542524</td>\n",
       "      <td>7.619885</td>\n",
       "      <td>0.518767</td>\n",
       "      <td>7.151293</td>\n",
       "      <td>...</td>\n",
       "      <td>7.118696</td>\n",
       "      <td>0</td>\n",
       "      <td>0</td>\n",
       "      <td>2.592424</td>\n",
       "      <td>0</td>\n",
       "      <td>0</td>\n",
       "      <td>0</td>\n",
       "      <td>0</td>\n",
       "      <td>1</td>\n",
       "      <td>0</td>\n",
       "    </tr>\n",
       "    <tr>\n",
       "      <th>2</th>\n",
       "      <td>73</td>\n",
       "      <td>0</td>\n",
       "      <td>3</td>\n",
       "      <td>1</td>\n",
       "      <td>17.795882</td>\n",
       "      <td>0</td>\n",
       "      <td>19.555085</td>\n",
       "      <td>7.844988</td>\n",
       "      <td>1.826335</td>\n",
       "      <td>9.673574</td>\n",
       "      <td>...</td>\n",
       "      <td>5.895077</td>\n",
       "      <td>0</td>\n",
       "      <td>0</td>\n",
       "      <td>7.119548</td>\n",
       "      <td>0</td>\n",
       "      <td>1</td>\n",
       "      <td>0</td>\n",
       "      <td>1</td>\n",
       "      <td>0</td>\n",
       "      <td>0</td>\n",
       "    </tr>\n",
       "    <tr>\n",
       "      <th>3</th>\n",
       "      <td>74</td>\n",
       "      <td>1</td>\n",
       "      <td>0</td>\n",
       "      <td>1</td>\n",
       "      <td>33.800817</td>\n",
       "      <td>1</td>\n",
       "      <td>12.209266</td>\n",
       "      <td>8.428001</td>\n",
       "      <td>7.435604</td>\n",
       "      <td>8.392554</td>\n",
       "      <td>...</td>\n",
       "      <td>8.965106</td>\n",
       "      <td>0</td>\n",
       "      <td>1</td>\n",
       "      <td>6.481226</td>\n",
       "      <td>0</td>\n",
       "      <td>0</td>\n",
       "      <td>0</td>\n",
       "      <td>0</td>\n",
       "      <td>0</td>\n",
       "      <td>0</td>\n",
       "    </tr>\n",
       "    <tr>\n",
       "      <th>4</th>\n",
       "      <td>89</td>\n",
       "      <td>0</td>\n",
       "      <td>0</td>\n",
       "      <td>0</td>\n",
       "      <td>20.716974</td>\n",
       "      <td>0</td>\n",
       "      <td>18.454356</td>\n",
       "      <td>6.310461</td>\n",
       "      <td>0.795498</td>\n",
       "      <td>5.597238</td>\n",
       "      <td>...</td>\n",
       "      <td>6.045039</td>\n",
       "      <td>0</td>\n",
       "      <td>0</td>\n",
       "      <td>0.014691</td>\n",
       "      <td>0</td>\n",
       "      <td>0</td>\n",
       "      <td>1</td>\n",
       "      <td>1</td>\n",
       "      <td>0</td>\n",
       "      <td>0</td>\n",
       "    </tr>\n",
       "  </tbody>\n",
       "</table>\n",
       "<p>5 rows × 33 columns</p>\n",
       "</div>"
      ]
     },
     "execution_count": 10,
     "metadata": {},
     "output_type": "execute_result"
    }
   ],
   "execution_count": 10
  },
  {
   "cell_type": "markdown",
   "source": "###Correlation between inputs and target feature",
   "metadata": {
    "id": "sWslo2bunsp0"
   }
  },
  {
   "cell_type": "code",
   "source": [
    "import seaborn as sns\n",
    "int64_columns = df.select_dtypes('int64').columns.to_list()\n",
    "int64_columns.remove('Age')\n",
    "#A remove those columns from here because they have a large range of values, I will put them into float columns\n",
    "int64_columns.remove('Diagnosis')\n",
    "int64_columns.remove('SystolicBP')\n",
    "int64_columns.remove('DiastolicBP')"
   ],
   "metadata": {
    "id": "nWK486GQbNxy",
    "ExecuteTime": {
     "end_time": "2024-08-31T10:02:26.054159Z",
     "start_time": "2024-08-31T10:02:26.042491Z"
    }
   },
   "outputs": [],
   "execution_count": 11
  },
  {
   "cell_type": "code",
   "source": [
    "sns.heatmap(round(df[int64_columns + ['Diagnosis']].corr(), 1),\n",
    "            vmin=-1,\n",
    "            vmax=1,\n",
    "            cmap = \"coolwarm\",\n",
    "            annot=True)"
   ],
   "metadata": {
    "colab": {
     "base_uri": "https://localhost:8080/",
     "height": 618
    },
    "id": "xzkewe5Gjh9i",
    "outputId": "f2521f59-524c-4a65-cf7d-85a458e68447",
    "ExecuteTime": {
     "end_time": "2024-08-31T10:02:28.121290Z",
     "start_time": "2024-08-31T10:02:26.377193Z"
    }
   },
   "outputs": [
    {
     "data": {
      "text/plain": [
       "<Axes: >"
      ]
     },
     "execution_count": 12,
     "metadata": {},
     "output_type": "execute_result"
    },
    {
     "data": {
      "text/plain": [
       "<Figure size 640x480 with 2 Axes>"
      ],
      "image/png": "[encoded data removed]"
     },
     "metadata": {},
     "output_type": "display_data"
    }
   ],
   "execution_count": 12
  },
  {
   "cell_type": "code",
   "source": [
    "float64_columns = df.select_dtypes('float64').columns.to_list()\n",
    "\n",
    "float64_columns.append('SystolicBP')\n",
    "float64_columns.append('DiastolicBP')"
   ],
   "metadata": {
    "id": "Y9bf6yEQgImj",
    "ExecuteTime": {
     "end_time": "2024-08-31T10:02:28.135806Z",
     "start_time": "2024-08-31T10:02:28.121290Z"
    }
   },
   "outputs": [],
   "execution_count": 13
  },
  {
   "cell_type": "code",
   "source": [
    "sns.heatmap(round(df[float64_columns + ['Diagnosis']].corr(), 1),\n",
    "            vmin=-1,\n",
    "            vmax=1,\n",
    "            cmap = \"coolwarm\",\n",
    "            annot=True)"
   ],
   "metadata": {
    "colab": {
     "base_uri": "https://localhost:8080/",
     "height": 604
    },
    "id": "z3NqVHlHixNa",
    "outputId": "f305d574-fef1-4a74-a609-f907079784c6",
    "ExecuteTime": {
     "end_time": "2024-08-31T10:02:29.715403Z",
     "start_time": "2024-08-31T10:02:28.137457Z"
    }
   },
   "outputs": [
    {
     "data": {
      "text/plain": [
       "<Axes: >"
      ]
     },
     "execution_count": 14,
     "metadata": {},
     "output_type": "execute_result"
    },
    {
     "data": {
      "text/plain": [
       "<Figure size 640x480 with 2 Axes>"
      ],
      "image/png": "[encoded data removed]"
     },
     "metadata": {},
     "output_type": "display_data"
    }
   ],
   "execution_count": 14
  },
  {
   "cell_type": "code",
   "source": [
    "useful_columns = ['ADL', 'FunctionalAssessment', 'MMSE', 'BehavioralProblems', 'MemoryComplaints', 'SleepQuality', 'CholesterolHDL']"
   ],
   "metadata": {
    "id": "hGyVVbxnlVjr",
    "ExecuteTime": {
     "end_time": "2024-08-31T10:02:29.727705Z",
     "start_time": "2024-08-31T10:02:29.717436Z"
    }
   },
   "outputs": [],
   "execution_count": 15
  },
  {
   "cell_type": "markdown",
   "source": [
    "##Splitting data with Stratified sampling"
   ],
   "metadata": {
    "id": "ke4m9APPn4yx"
   }
  },
  {
   "cell_type": "code",
   "source": [
    "import pandas as pd\n",
    "from sklearn.model_selection import StratifiedShuffleSplit\n",
    "from sklearn.preprocessing import StandardScaler\n",
    "\n",
    "# Extract data from the DataFrame and converts them into a NumPy array\n",
    "X = df[useful_columns].values  # Get the values as a numpy array\n",
    "\n",
    "# Scaling the data\n",
    "scaler = StandardScaler()\n",
    "X_scaled = scaler.fit_transform(X)\n",
    "\n",
    "# Define Y\n",
    "Y = df['Diagnosis'].values  # Target variable as a numpy array\n",
    "\n",
    "# Initialize StratifiedShuffleSplit\n",
    "# Test size should be a float or an integer, and it should be a proportion or number of samples\n",
    "sss = StratifiedShuffleSplit(n_splits=1, test_size=0.2, random_state=42)\n",
    "\n",
    "# Perform the split\n",
    "for train_index, test_index in sss.split(X_scaled, Y):\n",
    "    X_train, X_test = X_scaled[train_index], X_scaled[test_index]\n",
    "    y_train, y_test = Y[train_index], Y[test_index]\n",
    "\n",
    "# X_train, X_test, y_train, y_test are now ready to be used for training and testing model\n"
   ],
   "metadata": {
    "id": "gdu8m_h4laHq",
    "ExecuteTime": {
     "end_time": "2024-08-31T10:02:31.071187Z",
     "start_time": "2024-08-31T10:02:29.727705Z"
    }
   },
   "outputs": [],
   "execution_count": 16
  },
  {
   "cell_type": "markdown",
   "source": [
    "##Testing in each models\n"
   ],
   "metadata": {
    "id": "K8Hdk_3KoCuj"
   }
  },
  {
   "cell_type": "markdown",
   "source": [
    "###Naïve Bayes"
   ],
   "metadata": {
    "id": "t-jYRid0oZuN"
   }
  },
  {
   "cell_type": "code",
   "source": [
    "from sklearn.naive_bayes import BernoulliNB\n",
    "from sklearn.metrics import accuracy_score\n",
    "nb = BernoulliNB()\n",
    "nb.fit(X_train, y_train)\n",
    "\n",
    "y_pred = nb.predict(X_test)\n",
    "accuracy = accuracy_score(y_test, y_pred)\n",
    "print(\"Accuracy: \", accuracy)"
   ],
   "metadata": {
    "colab": {
     "base_uri": "https://localhost:8080/"
    },
    "id": "_4VSkynfmklO",
    "outputId": "d6ffb960-5ff5-4eef-a845-25cada762858",
    "ExecuteTime": {
     "end_time": "2024-08-31T10:02:31.101712Z",
     "start_time": "2024-08-31T10:02:31.071187Z"
    }
   },
   "outputs": [
    {
     "name": "stdout",
     "output_type": "stream",
     "text": [
      "Accuracy:  0.8441860465116279\n"
     ]
    }
   ],
   "execution_count": 17
  },
  {
   "cell_type": "markdown",
   "source": [
    "###Decision Tree"
   ],
   "metadata": {
    "id": "1G-awZzEoRAl"
   }
  },
  {
   "cell_type": "code",
   "source": [
    "from sklearn.tree import DecisionTreeClassifier\n",
    "from sklearn.tree import export_graphviz\n",
    "from graphviz import Source\n",
    "\n",
    "tree_clf = DecisionTreeClassifier(criterion='gini', max_depth=3)\n",
    "tree_clf.fit(X_train, y_train)\n",
    "\n",
    "y_pred = tree_clf.predict(X_test)\n",
    "accuracy = accuracy_score(y_test, y_pred)\n",
    "print(\"Accuracy: \", accuracy)"
   ],
   "metadata": {
    "colab": {
     "base_uri": "https://localhost:8080/"
    },
    "id": "RZxcBNNknX0p",
    "outputId": "058b3180-00ea-45e5-ddf2-50bc2b84504e",
    "ExecuteTime": {
     "end_time": "2024-08-31T10:02:31.553884Z",
     "start_time": "2024-08-31T10:02:31.101712Z"
    }
   },
   "outputs": [
    {
     "name": "stdout",
     "output_type": "stream",
     "text": [
      "Accuracy:  0.8813953488372093\n"
     ]
    }
   ],
   "execution_count": 18
  },
  {
   "cell_type": "markdown",
   "source": [
    "###Logistic Regression"
   ],
   "metadata": {
    "id": "Trobt-6Xoqgo"
   }
  },
  {
   "cell_type": "code",
   "source": [
    "from sklearn.linear_model import LogisticRegression\n",
    "from sklearn.metrics import precision_score, recall_score, f1_score\n",
    "\n",
    "print(\"Train data : \", len(X_train))\n",
    "print(\"Test data : \", len(X_test))\n",
    "\n",
    "regression_model = LogisticRegression(max_iter=100)\n",
    "regression_model.fit(X_train, y_train)\n",
    "\n",
    "y_predict = regression_model.predict(X_test)\n",
    "accuracy = accuracy_score(y_test, y_predict)\n",
    "print(\"Accuracy: \", accuracy)"
   ],
   "metadata": {
    "colab": {
     "base_uri": "https://localhost:8080/"
    },
    "id": "iKuBZhKkokJv",
    "outputId": "bad91efc-0815-4a6f-ebbc-1146a978a683",
    "ExecuteTime": {
     "end_time": "2024-08-31T10:02:31.588360Z",
     "start_time": "2024-08-31T10:02:31.553884Z"
    }
   },
   "outputs": [
    {
     "name": "stdout",
     "output_type": "stream",
     "text": [
      "Train data :  1719\n",
      "Test data :  430\n",
      "Accuracy:  0.8232558139534883\n"
     ]
    }
   ],
   "execution_count": 19
  },
  {
   "cell_type": "markdown",
   "source": [
    "###Gradient Boosting"
   ],
   "metadata": {
    "id": "2FHTr1UFo3Fa"
   }
  },
  {
   "cell_type": "code",
   "source": [
    "from sklearn.ensemble import GradientBoostingClassifier\n",
    "gbc = GradientBoostingClassifier()\n",
    "gbc.fit(X_train, y_train)\n",
    "\n",
    "y_pred = gbc.predict(X_test)\n",
    "accuracy = accuracy_score(y_test, y_pred)\n",
    "print(\"Gradient Boosting Acurracy: \", accuracy)"
   ],
   "metadata": {
    "colab": {
     "base_uri": "https://localhost:8080/"
    },
    "id": "9IFlxIOZotor",
    "outputId": "3ff8f560-a328-4a3d-daf3-f663a96efcb6",
    "ExecuteTime": {
     "end_time": "2024-08-31T10:02:32.301226Z",
     "start_time": "2024-08-31T10:02:31.588360Z"
    }
   },
   "outputs": [
    {
     "name": "stdout",
     "output_type": "stream",
     "text": [
      "Gradient Boosting Acurracy:  0.9418604651162791\n"
     ]
    }
   ],
   "execution_count": 20
  },
  {
   "cell_type": "markdown",
   "source": [
    "###K-nearest Neighbors"
   ],
   "metadata": {
    "id": "GzHoOxSqpBbg"
   }
  },
  {
   "cell_type": "code",
   "source": [
    "# # KNN Classifier training\n",
    "from sklearn.neighbors import KNeighborsClassifier\n",
    "knn = KNeighborsClassifier(n_neighbors=29)\n",
    "knn.fit(X_train, y_train)\n",
    "\n",
    "# # Test prediction\n",
    "y_pred = knn.predict(X_test)\n",
    "accuracy = accuracy_score(y_test, y_pred)\n",
    "print(\"KNN Accuracy: \", accuracy)"
   ],
   "metadata": {
    "colab": {
     "base_uri": "https://localhost:8080/"
    },
    "id": "6tfx5zdOo6-d",
    "outputId": "6a0e05a1-e7d3-442b-bbaa-e6a85decab1e",
    "ExecuteTime": {
     "end_time": "2024-08-31T10:02:32.369506Z",
     "start_time": "2024-08-31T10:02:32.301226Z"
    }
   },
   "outputs": [
    {
     "name": "stdout",
     "output_type": "stream",
     "text": [
      "KNN Accuracy:  0.8674418604651163\n"
     ]
    }
   ],
   "execution_count": 21
  },
  {
   "cell_type": "markdown",
   "source": [
    "###Support Vector Machine (SVM)"
   ],
   "metadata": {
    "id": "ROgbJcQ_psIP"
   }
  },
  {
   "cell_type": "code",
   "source": [
    "# # SVM Classifier training\n",
    "from sklearn.svm import SVC\n",
    "svm = SVC(kernel='linear', C=1, random_state=1)\n",
    "svm.fit(X_train, y_train)\n",
    "\n",
    "# # Test prediction\n",
    "y_pred = svm.predict(X_test)\n",
    "accuracy = accuracy_score(y_test, y_pred)\n",
    "print(\"SVM Accuracy: \", accuracy)"
   ],
   "metadata": {
    "colab": {
     "base_uri": "https://localhost:8080/"
    },
    "id": "EelwTmPPpGG-",
    "outputId": "3a65a73d-1af6-4ef1-ff15-11b782027e1a",
    "ExecuteTime": {
     "end_time": "2024-08-31T10:02:32.448168Z",
     "start_time": "2024-08-31T10:02:32.369506Z"
    }
   },
   "outputs": [
    {
     "name": "stdout",
     "output_type": "stream",
     "text": [
      "SVM Accuracy:  0.8209302325581396\n"
     ]
    }
   ],
   "execution_count": 22
  },
  {
   "cell_type": "markdown",
   "source": [
    "###Artificial Neural Networks"
   ],
   "metadata": {
    "id": "jfzPxhaGp8va"
   }
  },
  {
   "cell_type": "code",
   "source": [
    "# # ANNs Classifier\n",
    "from sklearn.neural_network import MLPClassifier\n",
    "ann = MLPClassifier(hidden_layer_sizes=(6, 6, 1), activation='identity', solver='sgd',\n",
    "                    learning_rate_init=0.001, batch_size=128, max_iter=100)\n",
    "ann.fit(X_train, y_train)\n",
    "\n",
    "# # Test prediction\n",
    "y_pred = ann.predict(X_test)\n",
    "accuracy = accuracy_score(y_test, y_pred)\n",
    "print(\"ANNs Accuracy: \", accuracy)"
   ],
   "metadata": {
    "colab": {
     "base_uri": "https://localhost:8080/"
    },
    "id": "S-jLKrQtp0Lq",
    "outputId": "27760d44-9ed3-4ec3-90f6-95c103d4f8e4",
    "ExecuteTime": {
     "end_time": "2024-08-31T10:02:33.122264Z",
     "start_time": "2024-08-31T10:02:32.449210Z"
    }
   },
   "outputs": [
    {
     "name": "stdout",
     "output_type": "stream",
     "text": [
      "ANNs Accuracy:  0.8232558139534883\n"
     ]
    }
   ],
   "execution_count": 23
  },
  {
   "cell_type": "markdown",
   "source": [
    "###Random Forest"
   ],
   "metadata": {
    "id": "cn38uv1EqYWx"
   }
  },
  {
   "cell_type": "code",
   "source": [
    "from sklearn.ensemble import RandomForestClassifier\n",
    "from sklearn import metrics\n",
    "rfcl = RandomForestClassifier(n_estimators = 31, random_state=1)\n",
    "rfcl = rfcl.fit(X_train, y_train)\n",
    "y_predict = rfcl.predict(X_test)\n",
    "print(rfcl.score(X_test, y_test))\n"
   ],
   "metadata": {
    "colab": {
     "base_uri": "https://localhost:8080/"
    },
    "id": "iDjRgyDJqFES",
    "outputId": "5030e99a-f6e6-4bf1-a152-849e8bb97a6c",
    "ExecuteTime": {
     "end_time": "2024-08-31T10:02:33.374391Z",
     "start_time": "2024-08-31T10:02:33.122264Z"
    }
   },
   "outputs": [
    {
     "name": "stdout",
     "output_type": "stream",
     "text": [
      "0.9465116279069767\n"
     ]
    }
   ],
   "execution_count": 24
  },
  {
   "cell_type": "code",
   "source": [
    "rfcl = RandomForestClassifier()\n",
    "# Create the parameter grid\n",
    "param_grid_rf = {'n_estimators': [50, 100, 150],\n",
    "                'max_depth': [2, 4, 6, 8],\n",
    "                'min_samples_split': [2, 4, 6, 8],\n",
    "                'min_samples_leaf': [1, 2, 3, 4]}"
   ],
   "metadata": {
    "id": "vJxrP5vTqf9g",
    "ExecuteTime": {
     "end_time": "2024-08-31T10:02:33.390746Z",
     "start_time": "2024-08-31T10:02:33.378943Z"
    }
   },
   "outputs": [],
   "execution_count": 25
  },
  {
   "cell_type": "code",
   "source": [
    "from sklearn.model_selection import GridSearchCV\n",
    "# Instantiate the GridSearchCV object\n",
    "grid_search = GridSearchCV(estimator=rfcl, param_grid=param_grid_rf, cv=sss, n_jobs=-1,\n",
    "                           verbose=2, scoring='accuracy', refit=True)\n",
    "\n",
    "# Fit the GridSearchCV object\n",
    "grid_search.fit(X_train, y_train)\n",
    "# Get the best model\n",
    "best_model = grid_search.best_estimator_"
   ],
   "metadata": {
    "colab": {
     "base_uri": "https://localhost:8080/"
    },
    "id": "Y1huRBsVaDmt",
    "outputId": "217a44c5-9815-4b2b-a8e4-659b1942d46b",
    "ExecuteTime": {
     "end_time": "2024-08-31T10:02:52.900778Z",
     "start_time": "2024-08-31T10:02:33.394767Z"
    }
   },
   "outputs": [
    {
     "name": "stdout",
     "output_type": "stream",
     "text": [
      "Fitting 1 folds for each of 192 candidates, totalling 192 fits\n"
     ]
    }
   ],
   "execution_count": 26
  },
  {
   "cell_type": "code",
   "source": [
    "# # Evaluate Model\n",
    "y_pred = best_model.predict(X_test)"
   ],
   "metadata": {
    "id": "YhP14wNYaK2U",
    "ExecuteTime": {
     "end_time": "2024-08-31T10:02:52.918835Z",
     "start_time": "2024-08-31T10:02:52.900778Z"
    }
   },
   "outputs": [],
   "execution_count": 27
  },
  {
   "cell_type": "code",
   "source": [
    "# Calculate the classification report\n",
    "from sklearn.metrics import classification_report\n",
    "from sklearn.metrics import accuracy_score, precision_score, recall_score, f1_score\n",
    "print('Random Forest Classification Report:')\n",
    "print(classification_report(y_test, y_pred), '\\n')\n",
    "\n",
    "# Calculate the accuracy\n",
    "accuracy = accuracy_score(y_test, y_pred)\n",
    "presicion = precision_score(y_test, y_pred, average='weighted')\n",
    "recall = recall_score(y_test, y_pred, average='weighted')\n",
    "f1 = f1_score(y_test, y_pred, average='weighted')\n",
    "print('Random Forest Accuracy: {0} | Precision: {1} | Recall: {2} | F1 Score: {3}'\n",
    "      .format(accuracy, presicion, recall, f1), '\\n')"
   ],
   "metadata": {
    "id": "c6dI6PB2sF79",
    "colab": {
     "base_uri": "https://localhost:8080/"
    },
    "outputId": "909faf96-c18a-49d4-b894-4a05da7f12ac",
    "ExecuteTime": {
     "end_time": "2024-08-31T10:02:52.964173Z",
     "start_time": "2024-08-31T10:02:52.918835Z"
    }
   },
   "outputs": [
    {
     "name": "stdout",
     "output_type": "stream",
     "text": [
      "Random Forest Classification Report:\n",
      "              precision    recall  f1-score   support\n",
      "\n",
      "           0       0.95      0.97      0.96       278\n",
      "           1       0.95      0.91      0.93       152\n",
      "\n",
      "    accuracy                           0.95       430\n",
      "   macro avg       0.95      0.94      0.94       430\n",
      "weighted avg       0.95      0.95      0.95       430\n",
      " \n",
      "\n",
      "Random Forest Accuracy: 0.9488372093023256 | Precision: 0.948760482615348 | Recall: 0.9488372093023256 | F1 Score: 0.9485952586333788 \n",
      "\n"
     ]
    }
   ],
   "execution_count": 28
  },
  {
   "metadata": {
    "ExecuteTime": {
     "end_time": "2024-08-31T10:02:53.294556Z",
     "start_time": "2024-08-31T10:02:52.964173Z"
    }
   },
   "cell_type": "code",
   "source": [
    "from sklearn.metrics import roc_auc_score, roc_curve, auc\n",
    "# Calculate and print AUC-ROC score\n",
    "y_proba = best_model.predict_proba(X_test)[:, 1]\n",
    "auc_roc = roc_auc_score(y_test, y_proba)\n",
    "print(f\"AUC-ROC Score: {auc_roc:.2f}\")\n",
    "\n",
    "# Plot the ROC curve\n",
    "fpr, tpr, _ = roc_curve(y_test, y_proba)\n",
    "roc_auc = auc(fpr, tpr)\n",
    "\n",
    "plt.figure()\n",
    "plt.plot(fpr, tpr, color='darkorange', lw=2, label=f'ROC curve (area = {roc_auc:.2f})')\n",
    "plt.plot([0, 1], [0, 1], color='navy', lw=2, linestyle='--')\n",
    "plt.xlim([0.0, 1.0])\n",
    "plt.ylim([0.0, 1.05])\n",
    "plt.xlabel('False Positive Rate')\n",
    "plt.ylabel('True Positive Rate')\n",
    "plt.title('Receiver Operating Characteristic')\n",
    "plt.legend(loc=\"lower right\")\n",
    "plt.show()"
   ],
   "outputs": [
    {
     "name": "stdout",
     "output_type": "stream",
     "text": [
      "AUC-ROC Score: 0.95\n"
     ]
    },
    {
     "data": {
      "text/plain": [
       "<Figure size 640x480 with 1 Axes>"
      ],
      "image/png": "[encoded data removed]"
     },
     "metadata": {},
     "output_type": "display_data"
    }
   ],
   "execution_count": 29
  },
  {
   "metadata": {
    "ExecuteTime": {
     "end_time": "2024-08-31T10:02:53.372992Z",
     "start_time": "2024-08-31T10:02:53.294556Z"
    }
   },
   "cell_type": "code",
   "source": [
    "import joblib\n",
    "import pandas as pd\n",
    "import os\n",
    "\n",
    "# Column name mappings\n",
    "column_name_mappings = {\n",
    "    'SleepQuality': 'sleep_quality',\n",
    "    'CholesterolHDL': 'cholesterol_hdl',\n",
    "    'MMSE': 'mini_mental_state_exam',\n",
    "    'FunctionalAssessment': 'functional_assessment',\n",
    "    'MemoryComplaints': 'memory_complaints',\n",
    "    'BehavioralProblems': 'behavioral_problems',\n",
    "    'ADL': 'activities_of_daily_living',\n",
    "    'Diagnosis': 'diagnosis'\n",
    "}\n",
    "\n",
    "# Range mappings for columns with ranges\n",
    "range_mappings = {\n",
    "    'SleepQuality': {\n",
    "        '4.00 - 4.60': '4',\n",
    "        '4.60 - 5.20': '5',\n",
    "        '5.20 - 5.80': '6',\n",
    "        '5.80 - 6.40': '7',\n",
    "        '6.40 - 7.00': '8',\n",
    "        '7.00 - 7.60': '9',\n",
    "        '7.60 - 8.20': '10',\n",
    "        '8.20 - 8.80': '11',\n",
    "        '8.80 - 9.40': '12',\n",
    "        '9.40 - 10.00': '13'\n",
    "    },\n",
    "    'CholesterolHDL': {\n",
    "        '20.00 - 28.00': '20',\n",
    "        '28.00 - 36.00': '30',\n",
    "        '36.00 - 44.00': '40',\n",
    "        '44.00 - 51.99': '50',\n",
    "        '51.99 - 59.99': '60',\n",
    "        '59.99 - 67.99': '70',\n",
    "        '67.99 - 75.99': '80',\n",
    "        '75.99 - 83.98': '90',\n",
    "        '83.98 - 91.98': '100',\n",
    "        '91.98 - 99.98': '110'\n",
    "    },\n",
    "    'MMSE': {\n",
    "        '0.01 - 3.00': '0',\n",
    "        '3.00 - 6.00': '3',\n",
    "        '6.00 - 9.00': '6',\n",
    "        '9.00 - 12.00': '9',\n",
    "        '12.00 - 15.00': '12',\n",
    "        '15.00 - 18.00': '15',\n",
    "        '18.00 - 21.00': '18',\n",
    "        '21.00 - 23.99': '21',\n",
    "        '23.99 - 26.99': '24',\n",
    "        '26.99 - 29.99': '27'\n",
    "    },\n",
    "    'FunctionalAssessment': {\n",
    "        '0.00 - 1.00': '0',\n",
    "        '1.00 - 2.00': '1',\n",
    "        '2.00 - 3.00': '2',\n",
    "        '3.00 - 4.00': '3',\n",
    "        '4.00 - 5.00': '4',\n",
    "        '5.00 - 6.00': '5',\n",
    "        '6.00 - 7.00': '6',\n",
    "        '7.00 - 8.00': '7',\n",
    "        '8.00 - 9.00': '8',\n",
    "        '9.00 - 10.00': '9'\n",
    "    },\n",
    "    'MemoryComplaints': {\n",
    "        '0.00 - 0.10': '0',\n",
    "        '0.90 - 1.00': '1'\n",
    "    },\n",
    "    'BehavioralProblems': {\n",
    "        '0.00 - 0.10': '0',\n",
    "        '0.90 - 1.00': '1'\n",
    "    },\n",
    "    'ADL': {\n",
    "        '0.00 - 1.00': '0',\n",
    "        '1.00 - 2.00': '1',\n",
    "        '2.00 - 3.00': '2',\n",
    "        '3.00 - 4.00': '3',\n",
    "        '4.00 - 5.00': '4',\n",
    "        '5.00 - 6.00': '5',\n",
    "        '6.00 - 7.00': '6',\n",
    "        '7.00 - 8.00': '7',\n",
    "        '8.00 - 9.00': '8',\n",
    "        '9.00 - 10.00': '9'\n",
    "    }\n",
    "}\n",
    "\n",
    "# Ensure the 'models' directory exists\n",
    "os.makedirs('models', exist_ok=True)\n",
    "\n",
    "# Save mappings to a .pkl file\n",
    "joblib.dump({\n",
    "    'column_name_mappings': column_name_mappings,\n",
    "    'range_mappings': range_mappings\n",
    "}, 'models/mappings2.pkl')\n",
    "\n",
    "print(\"Mapping file 'models/mappings2.pkl' has been created.\")\n",
    "# Save the best model as a pickle file and name it with models_label\n",
    "joblib.dump(best_model, 'models/best_model.pkl')"
   ],
   "outputs": [
    {
     "name": "stdout",
     "output_type": "stream",
     "text": [
      "Mapping file 'models/mappings2.pkl' has been created.\n"
     ]
    },
    {
     "data": {
      "text/plain": [
       "['models/best_model.pkl']"
      ]
     },
     "execution_count": 30,
     "metadata": {},
     "output_type": "execute_result"
    }
   ],
   "execution_count": 30
  },
  {
   "metadata": {
    "ExecuteTime": {
     "end_time": "2024-08-31T10:02:53.448655Z",
     "start_time": "2024-08-31T10:02:53.372992Z"
    }
   },
   "cell_type": "code",
   "source": "df.to_csv('prepAlzhimerData_AllColumns.csv', index=False)",
   "outputs": [],
   "execution_count": 31
  },
  {
   "metadata": {
    "ExecuteTime": {
     "end_time": "2024-08-31T10:07:42.131541Z",
     "start_time": "2024-08-31T10:07:42.027077Z"
    }
   },
   "cell_type": "code",
   "source": [
    "# Create a DataFrame with useful columns and the diagnosis column\n",
    "useful_columns = ['ADL', 'FunctionalAssessment', 'MMSE', 'BehavioralProblems', 'MemoryComplaints', 'SleepQuality', 'CholesterolHDL']\n",
    "us = df[useful_columns + ['Diagnosis']]\n",
    "\n",
    "# Rename columns according to the mappings\n",
    "us = us.rename(columns=column_name_mappings)\n",
    "\n",
    "# Save the DataFrame with useful columns to CSV\n",
    "us.to_csv('prepAlzheimerData_UsefulColumns.csv', index=False)"
   ],
   "outputs": [],
   "execution_count": 33
  },
  {
   "metadata": {},
   "cell_type": "code",
   "outputs": [],
   "execution_count": null,
   "source": ""
  }
 ]
}
